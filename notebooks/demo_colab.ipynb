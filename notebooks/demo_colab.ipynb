{
 "cells": [
  {
   "cell_type": "markdown",
   "metadata": {},
   "source": [
    "# ARR-MEDIC CYP3A4 Opensource — Colab Demo\n",
    "\n",
    "🔴 Not for Clinical Use.\n",
    "\n",
    "This notebook demonstrates how to use the CYP3A4 rule-based predictor."
   ]
  },
  {
   "cell_type": "code",
   "execution_count": null,
   "metadata": {},
   "outputs": [],
   "source": [
    "!pip install arr-medic-cyp3a4-opensource fastapi uvicorn"
   ]
  },
  {
   "cell_type": "code",
   "execution_count": null,
   "metadata": {},
   "outputs": [],
   "source": [
    "from predictor import predict\n",
    "\n",
    "print(predict(\"CCN\"))\n",
    "print(predict(\"CCO\"))"
   ]
  }
 ],
 "metadata": {
  "kernelspec": {
   "display_name": "Python 3",
   "language": "python",
   "name": "python3"
  },
  "language_info": {
   "name": "python"
  }
 },
 "nbformat": 4,
 "nbformat_minor": 2
}